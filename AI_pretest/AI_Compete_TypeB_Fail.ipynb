{
 "metadata": {
  "language_info": {
   "codemirror_mode": {
    "name": "ipython",
    "version": 3
   },
   "file_extension": ".py",
   "mimetype": "text/x-python",
   "name": "python",
   "nbconvert_exporter": "python",
   "pygments_lexer": "ipython3",
   "version": "3.8.5"
  },
  "orig_nbformat": 2,
  "kernelspec": {
   "name": "python3",
   "display_name": "Python 3",
   "language": "python"
  }
 },
 "nbformat": 4,
 "nbformat_minor": 2,
 "cells": [
  {
   "source": [
    "# AI 경진대회 코딩 테스트 (B형)\n",
    "제출자: 이성욱(sungwook.Lee@hyundai.com)  \n",
    "날짜: '21.6/28  \n",
    "문제(Type B): 5차원으로 데이터를 축소, 축소를 통해 정리된 인자들의 특성을 살펴라  \n",
    "\n",
    "**OVEVIEW**  \n",
    "1. Data Load and View  \n",
    "2. Feature Selection  \n",
    "3. Feature Extraciton  \n",
    "4. Feature Character    \n",
    "\n",
    "## 1. Data Load and View"
   ],
   "cell_type": "markdown",
   "metadata": {}
  },
  {
   "cell_type": "code",
   "execution_count": 1,
   "metadata": {},
   "outputs": [
    {
     "output_type": "stream",
     "name": "stdout",
     "text": [
      "AI경진대회 예선(B형)_data-set.zip\ninput.csv\noutput.csv\n\n"
     ]
    }
   ],
   "source": [
    "from subprocess import check_output\n",
    "import pandas as pd\n",
    "import matplotlib.pyplot as plt\n",
    "%matplotlib inline\n",
    "import seaborn as sns\n",
    "sns.set()\n",
    "from sklearn.preprocessing import StandardScaler\n",
    "\n",
    "print(check_output([\"ls\",\"input\"]).decode('utf8'))"
   ]
  },
  {
   "cell_type": "code",
   "execution_count": 2,
   "metadata": {},
   "outputs": [],
   "source": [
    "input = pd.read_csv('input/input.csv', header=None)\n",
    "output = pd.read_csv('input/output.csv', header=None)\n",
    "output = output.rename(columns={0:'Label'})"
   ]
  },
  {
   "cell_type": "code",
   "execution_count": 3,
   "metadata": {},
   "outputs": [
    {
     "output_type": "execute_result",
     "data": {
      "text/plain": [
       "         0         1         2         3         4         5         6   \\\n",
       "0  0.818106 -0.325165 -0.246214 -0.012640 -0.736274  1.205771 -1.074941   \n",
       "1 -0.051535  0.224741  1.586533 -0.806663 -1.905261 -1.428647 -1.138761   \n",
       "2  0.615563  2.101084 -0.982146 -0.264738  1.043126  2.171876 -1.185627   \n",
       "3  0.607127 -2.041983  0.181954 -0.300708 -1.254648 -2.385617 -0.814498   \n",
       "4  1.416870  0.361684  0.424445 -1.209425  0.349353 -0.397125 -0.460240   \n",
       "\n",
       "         7         8         9         10        11        12        13  \\\n",
       "0  0.554851  1.166372  0.445609  1.065898  0.114682 -0.506004  0.006854   \n",
       "1 -0.189653  1.009079  1.932479  0.060460  1.766632  1.395304 -0.959874   \n",
       "2  0.103988  0.612144 -0.328839  0.849970 -0.459181 -1.007995  1.222779   \n",
       "3 -0.312310  1.381110 -0.885105 -0.578846 -0.599110  0.880172 -1.801167   \n",
       "4  0.267333 -1.291405  1.225944  1.432778  0.157923 -0.985794  0.625482   \n",
       "\n",
       "         14        15        16        17        18        19  \n",
       "0  1.423487 -0.674604  0.299847 -1.193585 -0.215506 -0.523844  \n",
       "1  0.196900 -0.570431  0.004655 -1.283734 -1.005080 -0.494709  \n",
       "2 -0.832886  0.692303 -1.271343 -1.205148 -0.509579 -0.925548  \n",
       "3  0.113969  0.472810 -0.432572 -0.787749  1.030029 -0.761267  \n",
       "4 -0.446556 -2.052565 -0.418550 -0.468195  1.015300 -0.358104  "
      ],
      "text/html": "<div>\n<style scoped>\n    .dataframe tbody tr th:only-of-type {\n        vertical-align: middle;\n    }\n\n    .dataframe tbody tr th {\n        vertical-align: top;\n    }\n\n    .dataframe thead th {\n        text-align: right;\n    }\n</style>\n<table border=\"1\" class=\"dataframe\">\n  <thead>\n    <tr style=\"text-align: right;\">\n      <th></th>\n      <th>0</th>\n      <th>1</th>\n      <th>2</th>\n      <th>3</th>\n      <th>4</th>\n      <th>5</th>\n      <th>6</th>\n      <th>7</th>\n      <th>8</th>\n      <th>9</th>\n      <th>10</th>\n      <th>11</th>\n      <th>12</th>\n      <th>13</th>\n      <th>14</th>\n      <th>15</th>\n      <th>16</th>\n      <th>17</th>\n      <th>18</th>\n      <th>19</th>\n    </tr>\n  </thead>\n  <tbody>\n    <tr>\n      <th>0</th>\n      <td>0.818106</td>\n      <td>-0.325165</td>\n      <td>-0.246214</td>\n      <td>-0.012640</td>\n      <td>-0.736274</td>\n      <td>1.205771</td>\n      <td>-1.074941</td>\n      <td>0.554851</td>\n      <td>1.166372</td>\n      <td>0.445609</td>\n      <td>1.065898</td>\n      <td>0.114682</td>\n      <td>-0.506004</td>\n      <td>0.006854</td>\n      <td>1.423487</td>\n      <td>-0.674604</td>\n      <td>0.299847</td>\n      <td>-1.193585</td>\n      <td>-0.215506</td>\n      <td>-0.523844</td>\n    </tr>\n    <tr>\n      <th>1</th>\n      <td>-0.051535</td>\n      <td>0.224741</td>\n      <td>1.586533</td>\n      <td>-0.806663</td>\n      <td>-1.905261</td>\n      <td>-1.428647</td>\n      <td>-1.138761</td>\n      <td>-0.189653</td>\n      <td>1.009079</td>\n      <td>1.932479</td>\n      <td>0.060460</td>\n      <td>1.766632</td>\n      <td>1.395304</td>\n      <td>-0.959874</td>\n      <td>0.196900</td>\n      <td>-0.570431</td>\n      <td>0.004655</td>\n      <td>-1.283734</td>\n      <td>-1.005080</td>\n      <td>-0.494709</td>\n    </tr>\n    <tr>\n      <th>2</th>\n      <td>0.615563</td>\n      <td>2.101084</td>\n      <td>-0.982146</td>\n      <td>-0.264738</td>\n      <td>1.043126</td>\n      <td>2.171876</td>\n      <td>-1.185627</td>\n      <td>0.103988</td>\n      <td>0.612144</td>\n      <td>-0.328839</td>\n      <td>0.849970</td>\n      <td>-0.459181</td>\n      <td>-1.007995</td>\n      <td>1.222779</td>\n      <td>-0.832886</td>\n      <td>0.692303</td>\n      <td>-1.271343</td>\n      <td>-1.205148</td>\n      <td>-0.509579</td>\n      <td>-0.925548</td>\n    </tr>\n    <tr>\n      <th>3</th>\n      <td>0.607127</td>\n      <td>-2.041983</td>\n      <td>0.181954</td>\n      <td>-0.300708</td>\n      <td>-1.254648</td>\n      <td>-2.385617</td>\n      <td>-0.814498</td>\n      <td>-0.312310</td>\n      <td>1.381110</td>\n      <td>-0.885105</td>\n      <td>-0.578846</td>\n      <td>-0.599110</td>\n      <td>0.880172</td>\n      <td>-1.801167</td>\n      <td>0.113969</td>\n      <td>0.472810</td>\n      <td>-0.432572</td>\n      <td>-0.787749</td>\n      <td>1.030029</td>\n      <td>-0.761267</td>\n    </tr>\n    <tr>\n      <th>4</th>\n      <td>1.416870</td>\n      <td>0.361684</td>\n      <td>0.424445</td>\n      <td>-1.209425</td>\n      <td>0.349353</td>\n      <td>-0.397125</td>\n      <td>-0.460240</td>\n      <td>0.267333</td>\n      <td>-1.291405</td>\n      <td>1.225944</td>\n      <td>1.432778</td>\n      <td>0.157923</td>\n      <td>-0.985794</td>\n      <td>0.625482</td>\n      <td>-0.446556</td>\n      <td>-2.052565</td>\n      <td>-0.418550</td>\n      <td>-0.468195</td>\n      <td>1.015300</td>\n      <td>-0.358104</td>\n    </tr>\n  </tbody>\n</table>\n</div>"
     },
     "metadata": {},
     "execution_count": 3
    }
   ],
   "source": [
    "# Standard Scaling: Data Normalization\n",
    "stscaler= StandardScaler()\n",
    "stscaler.fit(input)\n",
    "input_ = stscaler.transform(input)\n",
    "\n",
    "y = output\n",
    "data = pd.DataFrame(input_)\n",
    "data.head()"
   ]
  },
  {
   "source": [
    "## 2. Feature Selection\n",
    "Output data is binanry data, i.e. it is classification problem.  \n",
    "using `SelectFromModel`, features were selected that is the biggest one among others.  \n",
    "Used classifier model is `RandomForestClassifier and GradientBoostingClassifier`.\n",
    "\n",
    "### 2-1. RandomForestClassifier\n",
    "- feature selection result: `features_forest`"
   ],
   "cell_type": "markdown",
   "metadata": {}
  },
  {
   "source": [
    "from sklearn.ensemble import RandomForestClassifier, GradientBoostingClassifier\n",
    "from sklearn.feature_selection import SelectFromModel"
   ],
   "cell_type": "code",
   "metadata": {},
   "execution_count": 4,
   "outputs": []
  },
  {
   "cell_type": "code",
   "execution_count": 5,
   "metadata": {},
   "outputs": [
    {
     "output_type": "stream",
     "name": "stdout",
     "text": [
      "Selected Feature is [17  6 19 16  0  4  8  2 18 12 13  1 15  9  5  7  3 10 11 14]\n"
     ]
    }
   ],
   "source": [
    "clf=RandomForestClassifier(n_estimators=100)\n",
    "clf.fit(data,y)\n",
    "\n",
    "model = SelectFromModel(clf, prefit=True)\n",
    "feature_selection_using_randomforest = pd.DataFrame(model.transform(data))\n",
    "\n",
    "features_forest = pd.Series(clf.feature_importances_)\n",
    "features_forest = abs(features_forest).sort_values(ascending=False)\n",
    "\n",
    "print(\"Selected Feature is {}\".format(features_forest.index.values))"
   ]
  },
  {
   "source": [
    "### 2-2. GradientBoostingClassifier\n",
    "- feature selection result: `features_boost`"
   ],
   "cell_type": "markdown",
   "metadata": {}
  },
  {
   "cell_type": "code",
   "execution_count": 6,
   "metadata": {},
   "outputs": [
    {
     "output_type": "stream",
     "name": "stdout",
     "text": [
      "Selected Feature is [17  6 19  8  5 18  9 13  4  7  0 11  2 14 12 16 10  1 15  3]\n"
     ]
    }
   ],
   "source": [
    "clf=GradientBoostingClassifier(n_estimators=100)\n",
    "clf = clf.fit(data,y)\n",
    "\n",
    "model = SelectFromModel(clf, prefit=True)\n",
    "feature_selection_using_boost = pd.DataFrame(model.transform(data))\n",
    "\n",
    "features_boost=pd.Series(clf.feature_importances_)\n",
    "features_boost=abs(features_boost).sort_values(ascending=False)\n",
    "\n",
    "print(\"Selected Feature is {}\".format(features_boost.index.values))"
   ]
  },
  {
   "source": [
    "### 2-3. 2norm select \n",
    "- using 2-norm between `features_forest` and `features_boost`, the biggest feature importance weights were selected.\n",
    "- result: `selected_features`"
   ],
   "cell_type": "markdown",
   "metadata": {}
  },
  {
   "cell_type": "code",
   "execution_count": 7,
   "metadata": {},
   "outputs": [
    {
     "output_type": "stream",
     "name": "stdout",
     "text": [
      "Final Selected Features are [17  6 19 16  0]\n"
     ]
    }
   ],
   "source": [
    "import numpy as np\n",
    "\n",
    "features_set = pd.concat([features_forest, features_boost], axis=1)\n",
    "features_set=features_set.rename( columns={0:'forest', 1:'boost'} )\n",
    "features_set['2norm'] = np.sqrt(features_set['forest']**2 + features_set['boost']**2)\n",
    "selected_features = features_set['2norm'].sort_values(ascending=False).index[:5].values\n",
    "print(\"Final Selected Features are {}\".format(selected_features))"
   ]
  },
  {
   "source": [
    "## 3. Feature Extraciton  \n",
    "- results: `feature_extracted_data`"
   ],
   "cell_type": "markdown",
   "metadata": {}
  },
  {
   "cell_type": "code",
   "execution_count": 8,
   "metadata": {},
   "outputs": [
    {
     "output_type": "execute_result",
     "data": {
      "text/plain": [
       "         17        6         19        16        0 \n",
       "0 -1.193585 -1.074941 -0.523844  0.299847  0.818106\n",
       "1 -1.283734 -1.138761 -0.494709  0.004655 -0.051535\n",
       "2 -1.205148 -1.185627 -0.925548 -1.271343  0.615563\n",
       "3 -0.787749 -0.814498 -0.761267 -0.432572  0.607127\n",
       "4 -0.468195 -0.460240 -0.358104 -0.418550  1.416870"
      ],
      "text/html": "<div>\n<style scoped>\n    .dataframe tbody tr th:only-of-type {\n        vertical-align: middle;\n    }\n\n    .dataframe tbody tr th {\n        vertical-align: top;\n    }\n\n    .dataframe thead th {\n        text-align: right;\n    }\n</style>\n<table border=\"1\" class=\"dataframe\">\n  <thead>\n    <tr style=\"text-align: right;\">\n      <th></th>\n      <th>17</th>\n      <th>6</th>\n      <th>19</th>\n      <th>16</th>\n      <th>0</th>\n    </tr>\n  </thead>\n  <tbody>\n    <tr>\n      <th>0</th>\n      <td>-1.193585</td>\n      <td>-1.074941</td>\n      <td>-0.523844</td>\n      <td>0.299847</td>\n      <td>0.818106</td>\n    </tr>\n    <tr>\n      <th>1</th>\n      <td>-1.283734</td>\n      <td>-1.138761</td>\n      <td>-0.494709</td>\n      <td>0.004655</td>\n      <td>-0.051535</td>\n    </tr>\n    <tr>\n      <th>2</th>\n      <td>-1.205148</td>\n      <td>-1.185627</td>\n      <td>-0.925548</td>\n      <td>-1.271343</td>\n      <td>0.615563</td>\n    </tr>\n    <tr>\n      <th>3</th>\n      <td>-0.787749</td>\n      <td>-0.814498</td>\n      <td>-0.761267</td>\n      <td>-0.432572</td>\n      <td>0.607127</td>\n    </tr>\n    <tr>\n      <th>4</th>\n      <td>-0.468195</td>\n      <td>-0.460240</td>\n      <td>-0.358104</td>\n      <td>-0.418550</td>\n      <td>1.416870</td>\n    </tr>\n  </tbody>\n</table>\n</div>"
     },
     "metadata": {},
     "execution_count": 8
    }
   ],
   "source": [
    "feature_extracted_data = data[selected_features]\n",
    "feature_extracted_data.head()"
   ]
  },
  {
   "source": [
    "## 4. Feature Character \n",
    "- extracted feature만을 가지고 학습하였을 때 결과: 99% up, i.e. 잘 선택되어졌음을 확인\n",
    "- 기본적인 산술 정보\n"
   ],
   "cell_type": "markdown",
   "metadata": {}
  },
  {
   "cell_type": "code",
   "execution_count": 9,
   "metadata": {},
   "outputs": [
    {
     "output_type": "stream",
     "name": "stdout",
     "text": [
      "Accuracy(%): 100.0%\n"
     ]
    }
   ],
   "source": [
    "clf = RandomForestClassifier(n_estimators=100)\n",
    "clf.fit(feature_extracted_data,y)\n",
    "\n",
    "score= clf.score(feature_extracted_data, y)\n",
    "print(\"Accuracy(%): {}%\".format(score*100))"
   ]
  },
  {
   "cell_type": "code",
   "execution_count": 33,
   "metadata": {},
   "outputs": [
    {
     "output_type": "execute_result",
     "data": {
      "text/plain": [
       "         17        6         19        16        0 \n",
       "0 -1.029791 -0.598511 -0.599297  0.308132  0.830360\n",
       "1 -1.107534 -0.633978 -0.566364  0.012611 -0.043999\n",
       "2 -1.039763 -0.660023 -1.053385 -1.264811  0.626718\n",
       "3 -0.679803 -0.453772 -0.867680 -0.425105  0.618236\n",
       "4 -0.404224 -0.256896 -0.411946 -0.411067  1.432372"
      ],
      "text/html": "<div>\n<style scoped>\n    .dataframe tbody tr th:only-of-type {\n        vertical-align: middle;\n    }\n\n    .dataframe tbody tr th {\n        vertical-align: top;\n    }\n\n    .dataframe thead th {\n        text-align: right;\n    }\n</style>\n<table border=\"1\" class=\"dataframe\">\n  <thead>\n    <tr style=\"text-align: right;\">\n      <th></th>\n      <th>17</th>\n      <th>6</th>\n      <th>19</th>\n      <th>16</th>\n      <th>0</th>\n    </tr>\n  </thead>\n  <tbody>\n    <tr>\n      <th>0</th>\n      <td>-1.029791</td>\n      <td>-0.598511</td>\n      <td>-0.599297</td>\n      <td>0.308132</td>\n      <td>0.830360</td>\n    </tr>\n    <tr>\n      <th>1</th>\n      <td>-1.107534</td>\n      <td>-0.633978</td>\n      <td>-0.566364</td>\n      <td>0.012611</td>\n      <td>-0.043999</td>\n    </tr>\n    <tr>\n      <th>2</th>\n      <td>-1.039763</td>\n      <td>-0.660023</td>\n      <td>-1.053385</td>\n      <td>-1.264811</td>\n      <td>0.626718</td>\n    </tr>\n    <tr>\n      <th>3</th>\n      <td>-0.679803</td>\n      <td>-0.453772</td>\n      <td>-0.867680</td>\n      <td>-0.425105</td>\n      <td>0.618236</td>\n    </tr>\n    <tr>\n      <th>4</th>\n      <td>-0.404224</td>\n      <td>-0.256896</td>\n      <td>-0.411946</td>\n      <td>-0.411067</td>\n      <td>1.432372</td>\n    </tr>\n  </tbody>\n</table>\n</div>"
     },
     "metadata": {},
     "execution_count": 33
    }
   ],
   "source": [
    "#Standard Scaler 도메인에서의 데이터 말고, 원래 도메인에서의 데이터를 뽑아달라고 할수도 있으니,\n",
    "final_original_domain_selected_data=input[selected_features]\n",
    "final_original_domain_selected_data.head()"
   ]
  },
  {
   "source": [
    "## 끝.\n",
    "- 이번 문제는 feature selection 문제가 아니었고, 차원을 줄이라는 문제였음 . 따라서, 위에 푼거는 아깝지만 삭제요,,"
   ],
   "cell_type": "markdown",
   "metadata": {}
  },
  {
   "source": [
    "- `PCA` 특성: Principal Component Analysis는 대표적인 Linear 차원 축소 기법"
   ],
   "cell_type": "markdown",
   "metadata": {}
  }
 ]
}